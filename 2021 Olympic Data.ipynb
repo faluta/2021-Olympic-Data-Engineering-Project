{
 "cells": [
  {
   "cell_type": "code",
   "execution_count": 0,
   "metadata": {
    "application/vnd.databricks.v1+cell": {
     "cellMetadata": {
      "byteLimit": 2048000,
      "rowLimit": 10000
     },
     "inputWidgets": {},
     "nuid": "f19a21f3-71e8-4381-8390-7e5fb7c61a2a",
     "showTitle": false,
     "tableResultSettingsMap": {},
     "title": ""
    }
   },
   "outputs": [
    {
     "output_type": "stream",
     "name": "stdout",
     "output_type": "stream",
     "text": [
      "{'client_id': '[REDACTED]', 'secret_key': '[REDACTED]', 'tenant_id': '[REDACTED]'}\n"
     ]
    }
   ],
   "source": [
    "secrets = {\n",
    "    \"client_id\": dbutils.secrets.get(scope=\"forapp-secrets\", key=\"client-id\"),\n",
    "    \"secret_key\": dbutils.secrets.get(scope=\"forapp-secrets\", key=\"secret-key\"),\n",
    "    \"tenant_id\": dbutils.secrets.get(scope=\"forapp-secrets\", key=\"tenant-id\")\n",
    "}\n",
    "print(secrets)"
   ]
  },
  {
   "cell_type": "code",
   "execution_count": 0,
   "metadata": {
    "application/vnd.databricks.v1+cell": {
     "cellMetadata": {
      "byteLimit": 2048000,
      "rowLimit": 10000
     },
     "inputWidgets": {},
     "nuid": "031d55dd-9121-4081-bcc8-50a79162feee",
     "showTitle": false,
     "tableResultSettingsMap": {},
     "title": ""
    }
   },
   "outputs": [
    {
     "output_type": "stream",
     "name": "stdout",
     "output_type": "stream",
     "text": [
      "Out[75]: [SecretMetadata(key='client-id'),\n SecretMetadata(key='secret-key'),\n SecretMetadata(key='tenant-id')]"
     ]
    }
   ],
   "source": [
    "dbutils.secrets.list(scope=\"forapp-secrets\")"
   ]
  },
  {
   "cell_type": "code",
   "execution_count": 0,
   "metadata": {
    "application/vnd.databricks.v1+cell": {
     "cellMetadata": {
      "byteLimit": 2048000,
      "rowLimit": 10000
     },
     "inputWidgets": {},
     "nuid": "c40d537e-4c30-4d2d-8c74-bc9bca121ceb",
     "showTitle": false,
     "tableResultSettingsMap": {},
     "title": ""
    }
   },
   "outputs": [],
   "source": [
    "# Conneting databricks to the ADLS via the app credentials created\n",
    "\n",
    "#Step 1: creating the configs with the app credentials. A requirement to connect the app to ADLS\n",
    "configs = {\"fs.azure.account.auth.type\": \"OAuth\",\n",
    "\"fs.azure.account.oauth.provider.type\": \"org.apache.hadoop.fs.azurebfs.oauth2.ClientCredsTokenProvider\",\n",
    "\"fs.azure.account.oauth2.client.id\": secrets[\"client_id\"],\n",
    "\"fs.azure.account.oauth2.client.secret\": secrets[\"secret_key\"],\n",
    "\"fs.azure.account.oauth2.client.endpoint\": f\"https://login.microsoftonline.com/{secrets['tenant_id']}/oauth2/token\"}\n",
    "\n",
    "# configs = {\n",
    "#   \"fs.azure.account.auth.type\": \"OAuth\",\n",
    "#   \"fs.azure.account.oauth.provider.type\": \"org.apache.hadoop.fs.azurebfs.oauth2.ClientCredsTokenProvider\",\n",
    "#   \"fs.azure.account.oauth2.client.id\": \"<your-application-client-id>\",\n",
    "#   \"fs.azure.account.oauth2.client.secret\": dbutils.secrets.get(scope=\"<your-secret-scope>\", key=\"<your-secret-key-for-client-secret>\"),\n",
    "#   \"fs.azure.account.oauth2.client.endpoint\": \"https://login.microsoftonline.com/<your-tenant-id>/oauth2/token\"\n",
    "# }\n",
    "\n",
    "\n",
    "# Step 2: Connecting the app to ADLS and specifying the data folder path\n",
    "# abfss:// (Azure Blob File System Secure) ----\n",
    "# source=\"abfss://containername@storageaccountname.dfs.core.windows.net\"\n",
    "# wsabs:// (Windows Storage Azure Blob Storage)\n",
    "# source=\"wsabs://containername@storageaccountname.blob.core.windows.net\"\n",
    "\n"
   ]
  },
  {
   "cell_type": "code",
   "execution_count": 0,
   "metadata": {
    "application/vnd.databricks.v1+cell": {
     "cellMetadata": {
      "byteLimit": 2048000,
      "rowLimit": 10000
     },
     "inputWidgets": {},
     "nuid": "e6ed4d7f-4131-4981-9c5f-8e35130d265a",
     "showTitle": false,
     "tableResultSettingsMap": {},
     "title": ""
    }
   },
   "outputs": [],
   "source": [
    "# Mounts the given source directory into DBFS at the given mount point.\n",
    "# dbutils.fs.mount(\n",
    "# source=\"abfss://olypmicdata@olympicdatafalu.dfs.core.windows.net\",\n",
    "# mount_point=\"/mnt/olympicdata21\",\n",
    "# extra_configs=configs)"
   ]
  },
  {
   "cell_type": "code",
   "execution_count": 0,
   "metadata": {
    "application/vnd.databricks.v1+cell": {
     "cellMetadata": {
      "byteLimit": 2048000,
      "rowLimit": 10000
     },
     "inputWidgets": {},
     "nuid": "de8243b9-c471-4453-a18c-fb1d3895ee1d",
     "showTitle": false,
     "tableResultSettingsMap": {},
     "title": ""
    }
   },
   "outputs": [
    {
     "output_type": "stream",
     "name": "stdout",
     "output_type": "stream",
     "text": [
      "Out[78]: [FileInfo(path='dbfs:/mnt/olympicdata21/raw_data/', name='raw_data/', size=0, modificationTime=1728748587000),\n FileInfo(path='dbfs:/mnt/olympicdata21/transformed_data/', name='transformed_data/', size=0, modificationTime=1728748596000)]"
     ]
    }
   ],
   "source": [
    "# List directory content using the file system \n",
    "dir = dbutils.fs.ls(\"/mnt/olympicdata21\")\n",
    "dir"
   ]
  },
  {
   "cell_type": "code",
   "execution_count": 0,
   "metadata": {
    "application/vnd.databricks.v1+cell": {
     "cellMetadata": {
      "byteLimit": 2048000,
      "rowLimit": 10000
     },
     "inputWidgets": {},
     "nuid": "f2ae2add-fad7-4bef-8c96-1bef8de71708",
     "showTitle": false,
     "tableResultSettingsMap": {},
     "title": ""
    }
   },
   "outputs": [
    {
     "output_type": "display_data",
     "data": {
      "text/html": [
       "\n",
       "            <div>\n",
       "                <p><b>SparkSession - hive</b></p>\n",
       "                \n",
       "        <div>\n",
       "            <p><b>SparkContext</b></p>\n",
       "\n",
       "            <p><a href=\"/?o=3288429320434115#setting/sparkui/1013-125708-lggub7j7/driver-7829551805986506093\">Spark UI</a></p>\n",
       "\n",
       "            <dl>\n",
       "              <dt>Version</dt>\n",
       "                <dd><code>v3.3.2</code></dd>\n",
       "              <dt>Master</dt>\n",
       "                <dd><code>local[*, 4]</code></dd>\n",
       "              <dt>AppName</dt>\n",
       "                <dd><code>Databricks Shell</code></dd>\n",
       "            </dl>\n",
       "        </div>\n",
       "        \n",
       "            </div>\n",
       "        "
      ]
     },
     "metadata": {
      "application/vnd.databricks.v1+output": {
       "addedWidgets": {},
       "arguments": {},
       "data": "\n            <div>\n                <p><b>SparkSession - hive</b></p>\n                \n        <div>\n            <p><b>SparkContext</b></p>\n\n            <p><a href=\"/?o=3288429320434115#setting/sparkui/1013-125708-lggub7j7/driver-7829551805986506093\">Spark UI</a></p>\n\n            <dl>\n              <dt>Version</dt>\n                <dd><code>v3.3.2</code></dd>\n              <dt>Master</dt>\n                <dd><code>local[*, 4]</code></dd>\n              <dt>AppName</dt>\n                <dd><code>Databricks Shell</code></dd>\n            </dl>\n        </div>\n        \n            </div>\n        ",
       "datasetInfos": [],
       "metadata": {},
       "removedWidgets": [],
       "textData": null,
       "type": "htmlSandbox"
      }
     },
     "output_type": "display_data"
    }
   ],
   "source": [
    "# instantiate the builtin spark object in databricks\n",
    "\n",
    "spark"
   ]
  },
  {
   "cell_type": "code",
   "execution_count": 0,
   "metadata": {
    "application/vnd.databricks.v1+cell": {
     "cellMetadata": {
      "byteLimit": 2048000,
      "rowLimit": 10000
     },
     "inputWidgets": {},
     "nuid": "2e58f197-3fb7-4e0a-87f3-c1e2405140a7",
     "showTitle": false,
     "tableResultSettingsMap": {},
     "title": ""
    }
   },
   "outputs": [],
   "source": [
    "# improt packages\n",
    "from pyspark.sql import functions as f \n",
    "from pyspark.sql.functions import col\n",
    "from pyspark.sql.types import IntegerType, DoubleType, BooleanType, StringType, DateType, DateConverter, FloatType"
   ]
  },
  {
   "cell_type": "code",
   "execution_count": 0,
   "metadata": {
    "application/vnd.databricks.v1+cell": {
     "cellMetadata": {
      "byteLimit": 2048000,
      "rowLimit": 10000
     },
     "inputWidgets": {},
     "nuid": "6c3b3880-1ecc-4c82-9d86-843003b89788",
     "showTitle": false,
     "tableResultSettingsMap": {},
     "title": ""
    }
   },
   "outputs": [],
   "source": [
    "# from dfs read data\n",
    "# infer.schema() to understand the data in each column and pass the appropriate datatype.\n",
    "athlete = spark.read.format(\"csv\").option(\"header\", \"true\").option(\"inferSchema\", \"true\").load(\"/mnt/olympicdata21/raw_data/athletes.csv\")\n",
    "coaches = spark.read.format(\"csv\").option(\"header\", \"true\").option(\"inferSchema\", \"true\").load(\"/mnt/olympicdata21/raw_data/coaches.csv\")\n",
    "genderpersport = spark.read.format(\"csv\").option(\"header\", \"true\").load(\"/mnt/olympicdata21/raw_data/genderpersport.csv\")\n",
    "medals = spark.read.format(\"csv\").option(\"header\", \"true\").load(\"/mnt/olympicdata21/raw_data/medals.csv\")\n",
    "teams = spark.read.format(\"csv\").option(\"header\", \"true\").load(\"/mnt/olympicdata21/raw_data/teams.csv\")"
   ]
  },
  {
   "cell_type": "code",
   "execution_count": 0,
   "metadata": {
    "application/vnd.databricks.v1+cell": {
     "cellMetadata": {
      "byteLimit": 2048000,
      "rowLimit": 10000
     },
     "inputWidgets": {},
     "nuid": "ee4197c4-f298-4343-ba7c-943cc7634d57",
     "showTitle": false,
     "tableResultSettingsMap": {},
     "title": ""
    }
   },
   "outputs": [
    {
     "output_type": "stream",
     "name": "stdout",
     "output_type": "stream",
     "text": [
      "+---------------+-------+-------------------+\n|     PersonName|Country|         Discipline|\n+---------------+-------+-------------------+\n|AALERUD Katrine| Norway|       Cycling Road|\n|    ABAD Nestor|  Spain|Artistic Gymnastics|\n+---------------+-------+-------------------+\nonly showing top 2 rows\n\nroot\n |-- PersonName: string (nullable = true)\n |-- Country: string (nullable = true)\n |-- Discipline: string (nullable = true)\n\n"
     ]
    }
   ],
   "source": [
    "athlete.show(2)\n",
    "athlete.printSchema()\n"
   ]
  },
  {
   "cell_type": "code",
   "execution_count": 0,
   "metadata": {
    "application/vnd.databricks.v1+cell": {
     "cellMetadata": {
      "byteLimit": 2048000,
      "rowLimit": 10000
     },
     "inputWidgets": {},
     "nuid": "9f6da3bf-c3fd-468e-a279-7d99d1940199",
     "showTitle": false,
     "tableResultSettingsMap": {},
     "title": ""
    }
   },
   "outputs": [
    {
     "output_type": "stream",
     "name": "stdout",
     "output_type": "stream",
     "text": [
      "+---------------+-------------+----------+-----+\n|           Name|      Country|Discipline|Event|\n+---------------+-------------+----------+-----+\n|ABDELMAGID Wael|        Egypt|  Football| null|\n|      ABE Junya|        Japan|Volleyball| null|\n|  ABE Katsuhiko|        Japan|Basketball| null|\n|   ADAMA Cherif|C�te d'Ivoire|  Football| null|\n|     AGEBA Yuya|        Japan|Volleyball| null|\n+---------------+-------------+----------+-----+\nonly showing top 5 rows\n\nroot\n |-- Name: string (nullable = true)\n |-- Country: string (nullable = true)\n |-- Discipline: string (nullable = true)\n |-- Event: string (nullable = true)\n\n"
     ]
    }
   ],
   "source": [
    "coaches.show(5)\n",
    "coaches.printSchema()"
   ]
  },
  {
   "cell_type": "code",
   "execution_count": 0,
   "metadata": {
    "application/vnd.databricks.v1+cell": {
     "cellMetadata": {
      "byteLimit": 2048000,
      "rowLimit": 10000
     },
     "inputWidgets": {},
     "nuid": "fe7fac24-e210-41dd-9706-6415e57044a4",
     "showTitle": false,
     "tableResultSettingsMap": {},
     "title": ""
    }
   },
   "outputs": [
    {
     "output_type": "stream",
     "name": "stdout",
     "output_type": "stream",
     "text": [
      "+-------------------+------+----+-----+\n|         Discipline|Female|Male|Total|\n+-------------------+------+----+-----+\n|     3x3 Basketball|    32|  32|   64|\n|            Archery|    64|  64|  128|\n|Artistic Gymnastics|    98|  98|  196|\n|  Artistic Swimming|   105|   0|  105|\n|          Athletics|   969|1072| 2041|\n+-------------------+------+----+-----+\nonly showing top 5 rows\n\nroot\n |-- Discipline: string (nullable = true)\n |-- Female: string (nullable = true)\n |-- Male: string (nullable = true)\n |-- Total: string (nullable = true)\n\n"
     ]
    }
   ],
   "source": [
    "genderpersport.show(5)\n",
    "genderpersport.printSchema()"
   ]
  },
  {
   "cell_type": "code",
   "execution_count": 0,
   "metadata": {
    "application/vnd.databricks.v1+cell": {
     "cellMetadata": {
      "byteLimit": 2048000,
      "rowLimit": 10000
     },
     "inputWidgets": {},
     "nuid": "514298c3-8159-4c1e-80be-49f5e04fb083",
     "showTitle": false,
     "tableResultSettingsMap": {},
     "title": ""
    }
   },
   "outputs": [
    {
     "output_type": "stream",
     "name": "stdout",
     "output_type": "stream",
     "text": [
      "+----+--------------------+----+------+------+-----+-------------+\n|Rank|         TeamCountry|Gold|Silver|Bronze|Total|Rank by Total|\n+----+--------------------+----+------+------+-----+-------------+\n|   1|United States of ...|  39|    41|    33|  113|            1|\n|   2|People's Republic...|  38|    32|    18|   88|            2|\n|   3|               Japan|  27|    14|    17|   58|            5|\n|   4|       Great Britain|  22|    21|    22|   65|            4|\n|   5|                 ROC|  20|    28|    23|   71|            3|\n+----+--------------------+----+------+------+-----+-------------+\nonly showing top 5 rows\n\nroot\n |-- Rank: string (nullable = true)\n |-- TeamCountry: string (nullable = true)\n |-- Gold: string (nullable = true)\n |-- Silver: string (nullable = true)\n |-- Bronze: string (nullable = true)\n |-- Total: string (nullable = true)\n |-- Rank by Total: string (nullable = true)\n\n"
     ]
    }
   ],
   "source": [
    "medals.show(5)\n",
    "medals.printSchema()"
   ]
  },
  {
   "cell_type": "code",
   "execution_count": 0,
   "metadata": {
    "application/vnd.databricks.v1+cell": {
     "cellMetadata": {
      "byteLimit": 2048000,
      "rowLimit": 10000
     },
     "inputWidgets": {},
     "nuid": "d6c97e08-2350-479e-8126-5ab31c9c4af1",
     "showTitle": false,
     "tableResultSettingsMap": {},
     "title": ""
    }
   },
   "outputs": [
    {
     "output_type": "stream",
     "name": "stdout",
     "output_type": "stream",
     "text": [
      "root\n |-- rank: string (nullable = true)\n |-- teamcountry: string (nullable = true)\n |-- gold: string (nullable = true)\n |-- silver: string (nullable = true)\n |-- bronze: string (nullable = true)\n |-- total: string (nullable = true)\n |-- rank_by_total: string (nullable = true)\n\nOut[86]: DataFrame[rank: string, teamcountry: string, gold: string, silver: string, bronze: string, total: string, rank_by_total: string]"
     ]
    }
   ],
   "source": [
    "for cols in medals.columns:\n",
    "    medals = medals.withColumnRenamed(cols, cols.lower()).withColumnRenamed(\"rank by total\", \"rank_by_total\")\n",
    "\n",
    "medals.printSchema()\n",
    "medals"
   ]
  },
  {
   "cell_type": "code",
   "execution_count": 0,
   "metadata": {
    "application/vnd.databricks.v1+cell": {
     "cellMetadata": {
      "byteLimit": 2048000,
      "rowLimit": 10000
     },
     "inputWidgets": {},
     "nuid": "afb9b8ed-5fc0-43ba-94d4-d038e9e52e5e",
     "showTitle": false,
     "tableResultSettingsMap": {},
     "title": ""
    }
   },
   "outputs": [],
   "source": [
    "medals = medals.withColumn(\"rank\", col(\"rank\").cast(IntegerType()))\\\n",
    "    .withColumn(\"gold\",col(\"gold\").cast(IntegerType()))\\\n",
    "    .withColumn(\"silver\",col(\"silver\").cast(IntegerType()))\\\n",
    "    .withColumn(\"bronze\",col(\"bronze\").cast(IntegerType()))\\\n",
    "    .withColumn(\"total\",col(\"total\").cast(IntegerType()))\\\n",
    "    .withColumn(\"rank_by_total\",col(\"rank_by_total\").cast(IntegerType()))"
   ]
  },
  {
   "cell_type": "code",
   "execution_count": 0,
   "metadata": {
    "application/vnd.databricks.v1+cell": {
     "cellMetadata": {
      "byteLimit": 2048000,
      "rowLimit": 10000
     },
     "inputWidgets": {},
     "nuid": "ccb85032-8cf8-49d8-a303-f71f2b1528c7",
     "showTitle": false,
     "tableResultSettingsMap": {},
     "title": ""
    }
   },
   "outputs": [
    {
     "output_type": "stream",
     "name": "stdout",
     "output_type": "stream",
     "text": [
      "+-------------------+------+----+-----+\n|         Discipline|Female|Male|Total|\n+-------------------+------+----+-----+\n|     3x3 Basketball|    32|  32|   64|\n|            Archery|    64|  64|  128|\n|Artistic Gymnastics|    98|  98|  196|\n|  Artistic Swimming|   105|   0|  105|\n|          Athletics|   969|1072| 2041|\n+-------------------+------+----+-----+\nonly showing top 5 rows\n\nroot\n |-- Discipline: string (nullable = true)\n |-- Female: string (nullable = true)\n |-- Male: string (nullable = true)\n |-- Total: string (nullable = true)\n\n"
     ]
    }
   ],
   "source": [
    "genderpersport.show(5)\n",
    "genderpersport.printSchema()"
   ]
  },
  {
   "cell_type": "code",
   "execution_count": 0,
   "metadata": {
    "application/vnd.databricks.v1+cell": {
     "cellMetadata": {
      "byteLimit": 2048000,
      "rowLimit": 10000
     },
     "inputWidgets": {},
     "nuid": "f9840650-2b21-46ea-ab16-625815ed60bd",
     "showTitle": false,
     "tableResultSettingsMap": {},
     "title": ""
    }
   },
   "outputs": [
    {
     "output_type": "stream",
     "name": "stdout",
     "output_type": "stream",
     "text": [
      "root\n |-- discipline: string (nullable = true)\n |-- female: string (nullable = true)\n |-- male: string (nullable = true)\n |-- total: string (nullable = true)\n\n"
     ]
    }
   ],
   "source": [
    "for cols in genderpersport.columns:\n",
    "    genderpersport = genderpersport.withColumnRenamed(cols, cols.lower())\n",
    "\n",
    "genderpersport.printSchema()"
   ]
  },
  {
   "cell_type": "code",
   "execution_count": 0,
   "metadata": {
    "application/vnd.databricks.v1+cell": {
     "cellMetadata": {
      "byteLimit": 2048000,
      "rowLimit": 10000
     },
     "inputWidgets": {},
     "nuid": "fe131a85-76b1-4c6a-9951-8b21fc43f429",
     "showTitle": false,
     "tableResultSettingsMap": {},
     "title": ""
    }
   },
   "outputs": [],
   "source": [
    "genderpersport = genderpersport.withColumn(\"female\", col(\"female\").cast(IntegerType()))\\\n",
    "    .withColumn(\"male\",col(\"male\").cast(IntegerType()))\\\n",
    "    .withColumn(\"total\",col(\"total\").cast(IntegerType()))"
   ]
  },
  {
   "cell_type": "code",
   "execution_count": 0,
   "metadata": {
    "application/vnd.databricks.v1+cell": {
     "cellMetadata": {
      "byteLimit": 2048000,
      "rowLimit": 10000
     },
     "inputWidgets": {},
     "nuid": "9252f64c-f9cd-4858-9271-9818fcf7f11d",
     "showTitle": false,
     "tableResultSettingsMap": {},
     "title": ""
    }
   },
   "outputs": [
    {
     "output_type": "stream",
     "name": "stdout",
     "output_type": "stream",
     "text": [
      "+--------+--------------+--------------------+-----+\n|TeamName|    Discipline|             Country|Event|\n+--------+--------------+--------------------+-----+\n| Belgium|3x3 Basketball|             Belgium|  Men|\n|   China|3x3 Basketball|People's Republic...|  Men|\n|   China|3x3 Basketball|People's Republic...|Women|\n|  France|3x3 Basketball|              France|Women|\n|   Italy|3x3 Basketball|               Italy|Women|\n+--------+--------------+--------------------+-----+\nonly showing top 5 rows\n\nroot\n |-- TeamName: string (nullable = true)\n |-- Discipline: string (nullable = true)\n |-- Country: string (nullable = true)\n |-- Event: string (nullable = true)\n\n"
     ]
    }
   ],
   "source": [
    "teams.show(5)\n",
    "teams.printSchema()"
   ]
  },
  {
   "cell_type": "code",
   "execution_count": 0,
   "metadata": {
    "application/vnd.databricks.v1+cell": {
     "cellMetadata": {
      "byteLimit": 2048000,
      "rowLimit": 10000
     },
     "inputWidgets": {},
     "nuid": "d7e1481d-045b-4a06-b3c9-945e594ef383",
     "showTitle": false,
     "tableResultSettingsMap": {},
     "title": ""
    }
   },
   "outputs": [
    {
     "output_type": "stream",
     "name": "stdout",
     "output_type": "stream",
     "text": [
      "+----+--------------------+----+------+------+-----+-------------+\n|rank|         teamcountry|gold|silver|bronze|total|rank_by_total|\n+----+--------------------+----+------+------+-----+-------------+\n|   1|United States of ...|  39|    41|    33|  113|            1|\n|   2|People's Republic...|  38|    32|    18|   88|            2|\n|   3|               Japan|  27|    14|    17|   58|            5|\n|   4|       Great Britain|  22|    21|    22|   65|            4|\n|   5|                 ROC|  20|    28|    23|   71|            3|\n|   6|           Australia|  17|     7|    22|   46|            6|\n|   7|         Netherlands|  10|    12|    14|   36|            9|\n|   8|              France|  10|    12|    11|   33|           10|\n|   9|             Germany|  10|    11|    16|   37|            8|\n|  10|               Italy|  10|    10|    20|   40|            7|\n|  11|              Canada|   7|     6|    11|   24|           11|\n|  12|              Brazil|   7|     6|     8|   21|           12|\n|  13|         New Zealand|   7|     6|     7|   20|           13|\n|  14|                Cuba|   7|     3|     5|   15|           18|\n|  15|             Hungary|   6|     7|     7|   20|           13|\n|  16|   Republic of Korea|   6|     4|    10|   20|           13|\n|  17|              Poland|   4|     5|     5|   14|           19|\n|  18|      Czech Republic|   4|     4|     3|   11|           23|\n|  19|               Kenya|   4|     4|     2|   10|           25|\n|  20|              Norway|   4|     2|     2|    8|           29|\n+----+--------------------+----+------+------+-----+-------------+\nonly showing top 20 rows\n\n+--------------------+----+\n|         teamcountry|gold|\n+--------------------+----+\n|United States of ...|  39|\n|People's Republic...|  38|\n|               Japan|  27|\n|       Great Britain|  22|\n|                 ROC|  20|\n|           Australia|  17|\n|         Netherlands|  10|\n|              France|  10|\n|             Germany|  10|\n|               Italy|  10|\n|              Canada|   7|\n|              Brazil|   7|\n|         New Zealand|   7|\n|                Cuba|   7|\n|             Hungary|   6|\n|   Republic of Korea|   6|\n|              Poland|   4|\n|      Czech Republic|   4|\n|               Kenya|   4|\n|              Norway|   4|\n+--------------------+----+\nonly showing top 20 rows\n\n"
     ]
    }
   ],
   "source": [
    "# find the top countries with the highest number of medals\n",
    "medals.show()\n",
    "medals.orderBy(f.desc(\"gold\")).select(\"teamcountry\",\"gold\").show()"
   ]
  },
  {
   "cell_type": "code",
   "execution_count": 0,
   "metadata": {
    "application/vnd.databricks.v1+cell": {
     "cellMetadata": {
      "byteLimit": 2048000,
      "rowLimit": 10000
     },
     "inputWidgets": {},
     "nuid": "3525883f-1361-46b5-ad47-cfc7671fb0bc",
     "showTitle": false,
     "tableResultSettingsMap": {},
     "title": ""
    }
   },
   "outputs": [
    {
     "output_type": "stream",
     "name": "stdout",
     "output_type": "stream",
     "text": [
      "+--------------------+------+----+-----+----------+--------+\n|          discipline|female|male|total|avg_female|avg_male|\n+--------------------+------+----+-----+----------+--------+\n|      3x3 Basketball|    32|  32|   64|       0.5|     0.5|\n|             Archery|    64|  64|  128|       0.5|     0.5|\n| Artistic Gymnastics|    98|  98|  196|       0.5|     0.5|\n|   Artistic Swimming|   105|   0|  105|       0.0|     0.0|\n|           Athletics|   969|1072| 2041|      0.53|    0.53|\n|           Badminton|    86|  87|  173|       0.5|     0.5|\n|   Baseball/Softball|    90| 144|  234|      0.62|    0.62|\n|          Basketball|   144| 144|  288|       0.5|     0.5|\n|    Beach Volleyball|    48|  48|   96|       0.5|     0.5|\n|              Boxing|   102| 187|  289|      0.65|    0.65|\n|        Canoe Slalom|    41|  41|   82|       0.5|     0.5|\n|        Canoe Sprint|   123| 126|  249|      0.51|    0.51|\n|Cycling BMX Frees...|    10|   9|   19|      0.47|    0.47|\n|  Cycling BMX Racing|    24|  24|   48|       0.5|     0.5|\n|Cycling Mountain ...|    38|  38|   76|       0.5|     0.5|\n|        Cycling Road|    70| 131|  201|      0.65|    0.65|\n|       Cycling Track|    90|  99|  189|      0.52|    0.52|\n|              Diving|    72|  71|  143|       0.5|     0.5|\n|          Equestrian|    73| 125|  198|      0.63|    0.63|\n|             Fencing|   107| 108|  215|       0.5|     0.5|\n+--------------------+------+----+-----+----------+--------+\nonly showing top 20 rows\n\n"
     ]
    }
   ],
   "source": [
    " # calculate the average number of entries by gender for each discipline\n",
    "avg_entries_gender = genderpersport.withColumn(\"avg_female\", f.round(genderpersport[\"male\"]/genderpersport[\"total\"],2))\\\n",
    "                    .withColumn(\"avg_male\", f.round(genderpersport[\"male\"] / genderpersport[\"total\"],2))\n",
    "\n",
    "avg_entries_gender.show()"
   ]
  },
  {
   "cell_type": "code",
   "execution_count": 0,
   "metadata": {
    "application/vnd.databricks.v1+cell": {
     "cellMetadata": {
      "byteLimit": 2048000,
      "rowLimit": 10000
     },
     "inputWidgets": {},
     "nuid": "fc3f283e-fbe9-46ca-81a4-569ee8ef313c",
     "showTitle": false,
     "tableResultSettingsMap": {},
     "title": ""
    }
   },
   "outputs": [],
   "source": [
    "# saving the file to the mounted transformed folder \n",
    "athlete.repartition(1).write.option(\"header\",\"true\").csv(\"/mnt/olympicdata21/transformed_data/athlete\")\n",
    "coaches.repartition(1).write.option(\"header\",\"true\").csv(\"/mnt/olympicdata21/transformed_data/coaches\")\n",
    "genderpersport.repartition(1).write.option(\"header\",\"true\").csv(\"/mnt/olympicdata21/transformed_data/genderpersport\")\n",
    "medals.repartition(1).write.option(\"header\",\"true\").csv(\"/mnt/olympicdata21/transformed_data/medals\")\n",
    "teams.repartition(1).write.option(\"header\",\"true\").csv(\"/mnt/olympicdata21/transformed_data/teams\")"
   ]
  },
  {
   "cell_type": "code",
   "execution_count": 0,
   "metadata": {
    "application/vnd.databricks.v1+cell": {
     "cellMetadata": {
      "byteLimit": 2048000,
      "rowLimit": 10000
     },
     "inputWidgets": {},
     "nuid": "ac157f43-4851-449e-b714-8259c71219d3",
     "showTitle": false,
     "tableResultSettingsMap": {},
     "title": ""
    }
   },
   "outputs": [],
   "source": []
  }
 ],
 "metadata": {
  "application/vnd.databricks.v1+notebook": {
   "dashboards": [],
   "environmentMetadata": null,
   "language": "python",
   "notebookMetadata": {
    "mostRecentlyExecutedCommandWithImplicitDF": {
     "commandId": 306652892095996,
     "dataframes": [
      "_sqldf"
     ]
    },
    "pythonIndentUnit": 4
   },
   "notebookName": "2021 Olympic Data",
   "widgets": {}
  },
  "language_info": {
   "name": "python"
  }
 },
 "nbformat": 4,
 "nbformat_minor": 0
}
